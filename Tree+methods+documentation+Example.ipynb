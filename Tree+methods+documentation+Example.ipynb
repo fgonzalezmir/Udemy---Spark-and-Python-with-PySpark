{
 "cells": [
  {
   "cell_type": "code",
   "execution_count": 1,
   "metadata": {
    "collapsed": true
   },
   "outputs": [],
   "source": [
    "import findspark\n",
    "findspark.init('/home/fede/spark-2.1.0-bin-hadoop2.7')"
   ]
  },
  {
   "cell_type": "code",
   "execution_count": 3,
   "metadata": {
    "collapsed": true
   },
   "outputs": [],
   "source": [
    "from pyspark.sql import SparkSession\n",
    "spark = SparkSession.builder.appName('mytree').getOrCreate()"
   ]
  },
  {
   "cell_type": "code",
   "execution_count": 4,
   "metadata": {
    "collapsed": true
   },
   "outputs": [],
   "source": [
    "from pyspark.ml import Pipeline"
   ]
  },
  {
   "cell_type": "code",
   "execution_count": 5,
   "metadata": {
    "collapsed": true
   },
   "outputs": [],
   "source": [
    "from pyspark.ml.classification import (RandomForestClassifier,\n",
    "                                       GBTClassifier,\n",
    "                                       DecisionTreeClassifier)"
   ]
  },
  {
   "cell_type": "code",
   "execution_count": 6,
   "metadata": {
    "collapsed": true
   },
   "outputs": [],
   "source": [
    "file_path = '/home/fede/sample_libsvm_data.txt'\n",
    "data = spark.read.format('libsvm').load(file_path)"
   ]
  },
  {
   "cell_type": "code",
   "execution_count": 7,
   "metadata": {},
   "outputs": [
    {
     "name": "stdout",
     "output_type": "stream",
     "text": [
      "+-----+--------------------+\n",
      "|label|            features|\n",
      "+-----+--------------------+\n",
      "|  0.0|(692,[127,128,129...|\n",
      "|  1.0|(692,[158,159,160...|\n",
      "|  1.0|(692,[124,125,126...|\n",
      "|  1.0|(692,[152,153,154...|\n",
      "|  1.0|(692,[151,152,153...|\n",
      "|  0.0|(692,[129,130,131...|\n",
      "|  1.0|(692,[158,159,160...|\n",
      "|  1.0|(692,[99,100,101,...|\n",
      "|  0.0|(692,[154,155,156...|\n",
      "|  0.0|(692,[127,128,129...|\n",
      "|  1.0|(692,[154,155,156...|\n",
      "|  0.0|(692,[153,154,155...|\n",
      "|  0.0|(692,[151,152,153...|\n",
      "|  1.0|(692,[129,130,131...|\n",
      "|  0.0|(692,[154,155,156...|\n",
      "|  1.0|(692,[150,151,152...|\n",
      "|  0.0|(692,[124,125,126...|\n",
      "|  0.0|(692,[152,153,154...|\n",
      "|  1.0|(692,[97,98,99,12...|\n",
      "|  1.0|(692,[124,125,126...|\n",
      "+-----+--------------------+\n",
      "only showing top 20 rows\n",
      "\n"
     ]
    }
   ],
   "source": [
    "data.show()"
   ]
  },
  {
   "cell_type": "code",
   "execution_count": 8,
   "metadata": {
    "collapsed": true
   },
   "outputs": [],
   "source": [
    "train_data,test_data = data.randomSplit([0.7,0.3])"
   ]
  },
  {
   "cell_type": "code",
   "execution_count": 10,
   "metadata": {
    "collapsed": true
   },
   "outputs": [],
   "source": [
    "dtc = DecisionTreeClassifier(featuresCol='features',labelCol='label')\n",
    "rfc = RandomForestClassifier(featuresCol='features',labelCol='label',numTrees=100)\n",
    "gbt = GBTClassifier(featuresCol='features',labelCol='label')"
   ]
  },
  {
   "cell_type": "code",
   "execution_count": 11,
   "metadata": {
    "collapsed": true
   },
   "outputs": [],
   "source": [
    "dtc_model = dtc.fit(train_data)\n",
    "rfc_model = rfc.fit(train_data)\n",
    "gbt_model = gbt.fit(train_data)"
   ]
  },
  {
   "cell_type": "code",
   "execution_count": 12,
   "metadata": {
    "collapsed": true
   },
   "outputs": [],
   "source": [
    "dtc_preds = dtc_model.transform(test_data)\n",
    "rfc_preds = rfc_model.transform(test_data)\n",
    "gbt_preds = gbt_model.transform(test_data)"
   ]
  },
  {
   "cell_type": "code",
   "execution_count": 13,
   "metadata": {},
   "outputs": [
    {
     "name": "stdout",
     "output_type": "stream",
     "text": [
      "+-----+--------------------+-------------+-----------+----------+\n",
      "|label|            features|rawPrediction|probability|prediction|\n",
      "+-----+--------------------+-------------+-----------+----------+\n",
      "|  0.0|(692,[95,96,97,12...|   [25.0,0.0]|  [1.0,0.0]|       0.0|\n",
      "|  0.0|(692,[121,122,123...|   [25.0,0.0]|  [1.0,0.0]|       0.0|\n",
      "|  0.0|(692,[123,124,125...|   [25.0,0.0]|  [1.0,0.0]|       0.0|\n",
      "|  0.0|(692,[124,125,126...|   [25.0,0.0]|  [1.0,0.0]|       0.0|\n",
      "|  0.0|(692,[124,125,126...|   [25.0,0.0]|  [1.0,0.0]|       0.0|\n",
      "|  0.0|(692,[124,125,126...|   [25.0,0.0]|  [1.0,0.0]|       0.0|\n",
      "|  0.0|(692,[125,126,127...|   [25.0,0.0]|  [1.0,0.0]|       0.0|\n",
      "|  0.0|(692,[126,127,128...|   [25.0,0.0]|  [1.0,0.0]|       0.0|\n",
      "|  0.0|(692,[126,127,128...|   [25.0,0.0]|  [1.0,0.0]|       0.0|\n",
      "|  0.0|(692,[126,127,128...|   [25.0,0.0]|  [1.0,0.0]|       0.0|\n",
      "|  0.0|(692,[126,127,128...|   [25.0,0.0]|  [1.0,0.0]|       0.0|\n",
      "|  0.0|(692,[126,127,128...|   [25.0,0.0]|  [1.0,0.0]|       0.0|\n",
      "|  0.0|(692,[127,128,129...|   [25.0,0.0]|  [1.0,0.0]|       0.0|\n",
      "|  0.0|(692,[129,130,131...|   [25.0,0.0]|  [1.0,0.0]|       0.0|\n",
      "|  0.0|(692,[150,151,152...|   [25.0,0.0]|  [1.0,0.0]|       0.0|\n",
      "|  0.0|(692,[152,153,154...|   [25.0,0.0]|  [1.0,0.0]|       0.0|\n",
      "|  0.0|(692,[153,154,155...|   [25.0,0.0]|  [1.0,0.0]|       0.0|\n",
      "|  0.0|(692,[154,155,156...|   [25.0,0.0]|  [1.0,0.0]|       0.0|\n",
      "|  1.0|(692,[100,101,102...|   [0.0,44.0]|  [0.0,1.0]|       1.0|\n",
      "|  1.0|(692,[119,120,121...|   [0.0,44.0]|  [0.0,1.0]|       1.0|\n",
      "+-----+--------------------+-------------+-----------+----------+\n",
      "only showing top 20 rows\n",
      "\n"
     ]
    }
   ],
   "source": [
    "dtc_preds.show()"
   ]
  },
  {
   "cell_type": "code",
   "execution_count": 14,
   "metadata": {},
   "outputs": [
    {
     "name": "stdout",
     "output_type": "stream",
     "text": [
      "+-----+--------------------+-------------+-----------+----------+\n",
      "|label|            features|rawPrediction|probability|prediction|\n",
      "+-----+--------------------+-------------+-----------+----------+\n",
      "|  0.0|(692,[95,96,97,12...|   [94.0,6.0]|[0.94,0.06]|       0.0|\n",
      "|  0.0|(692,[121,122,123...|   [93.0,7.0]|[0.93,0.07]|       0.0|\n",
      "|  0.0|(692,[123,124,125...|   [93.0,7.0]|[0.93,0.07]|       0.0|\n",
      "|  0.0|(692,[124,125,126...|  [100.0,0.0]|  [1.0,0.0]|       0.0|\n",
      "|  0.0|(692,[124,125,126...|  [79.0,21.0]|[0.79,0.21]|       0.0|\n",
      "|  0.0|(692,[124,125,126...|   [92.0,8.0]|[0.92,0.08]|       0.0|\n",
      "|  0.0|(692,[125,126,127...|   [92.0,8.0]|[0.92,0.08]|       0.0|\n",
      "|  0.0|(692,[126,127,128...|   [92.0,8.0]|[0.92,0.08]|       0.0|\n",
      "|  0.0|(692,[126,127,128...|   [94.0,6.0]|[0.94,0.06]|       0.0|\n",
      "|  0.0|(692,[126,127,128...|   [96.0,4.0]|[0.96,0.04]|       0.0|\n",
      "|  0.0|(692,[126,127,128...|   [99.0,1.0]|[0.99,0.01]|       0.0|\n",
      "|  0.0|(692,[126,127,128...|   [93.0,7.0]|[0.93,0.07]|       0.0|\n",
      "|  0.0|(692,[127,128,129...|   [96.0,4.0]|[0.96,0.04]|       0.0|\n",
      "|  0.0|(692,[129,130,131...|   [97.0,3.0]|[0.97,0.03]|       0.0|\n",
      "|  0.0|(692,[150,151,152...|   [94.0,6.0]|[0.94,0.06]|       0.0|\n",
      "|  0.0|(692,[152,153,154...|  [86.0,14.0]|[0.86,0.14]|       0.0|\n",
      "|  0.0|(692,[153,154,155...|  [80.0,20.0]|  [0.8,0.2]|       0.0|\n",
      "|  0.0|(692,[154,155,156...|  [89.0,11.0]|[0.89,0.11]|       0.0|\n",
      "|  1.0|(692,[100,101,102...|   [1.0,99.0]|[0.01,0.99]|       1.0|\n",
      "|  1.0|(692,[119,120,121...|  [38.0,62.0]|[0.38,0.62]|       1.0|\n",
      "+-----+--------------------+-------------+-----------+----------+\n",
      "only showing top 20 rows\n",
      "\n"
     ]
    }
   ],
   "source": [
    "rfc_preds.show()"
   ]
  },
  {
   "cell_type": "code",
   "execution_count": 15,
   "metadata": {},
   "outputs": [
    {
     "name": "stdout",
     "output_type": "stream",
     "text": [
      "+-----+--------------------+----------+\n",
      "|label|            features|prediction|\n",
      "+-----+--------------------+----------+\n",
      "|  0.0|(692,[95,96,97,12...|       0.0|\n",
      "|  0.0|(692,[121,122,123...|       0.0|\n",
      "|  0.0|(692,[123,124,125...|       0.0|\n",
      "|  0.0|(692,[124,125,126...|       0.0|\n",
      "|  0.0|(692,[124,125,126...|       0.0|\n",
      "|  0.0|(692,[124,125,126...|       0.0|\n",
      "|  0.0|(692,[125,126,127...|       0.0|\n",
      "|  0.0|(692,[126,127,128...|       0.0|\n",
      "|  0.0|(692,[126,127,128...|       0.0|\n",
      "|  0.0|(692,[126,127,128...|       0.0|\n",
      "|  0.0|(692,[126,127,128...|       0.0|\n",
      "|  0.0|(692,[126,127,128...|       0.0|\n",
      "|  0.0|(692,[127,128,129...|       0.0|\n",
      "|  0.0|(692,[129,130,131...|       0.0|\n",
      "|  0.0|(692,[150,151,152...|       0.0|\n",
      "|  0.0|(692,[152,153,154...|       0.0|\n",
      "|  0.0|(692,[153,154,155...|       0.0|\n",
      "|  0.0|(692,[154,155,156...|       0.0|\n",
      "|  1.0|(692,[100,101,102...|       1.0|\n",
      "|  1.0|(692,[119,120,121...|       1.0|\n",
      "+-----+--------------------+----------+\n",
      "only showing top 20 rows\n",
      "\n"
     ]
    }
   ],
   "source": [
    "gbt_preds.show()"
   ]
  },
  {
   "cell_type": "code",
   "execution_count": 16,
   "metadata": {
    "collapsed": true
   },
   "outputs": [],
   "source": [
    "from pyspark.ml.evaluation import MulticlassClassificationEvaluator"
   ]
  },
  {
   "cell_type": "code",
   "execution_count": 17,
   "metadata": {
    "collapsed": true
   },
   "outputs": [],
   "source": [
    "acc_eval = MulticlassClassificationEvaluator(metricName='accuracy')"
   ]
  },
  {
   "cell_type": "code",
   "execution_count": 18,
   "metadata": {},
   "outputs": [
    {
     "name": "stdout",
     "output_type": "stream",
     "text": [
      "DTC ACCURACY:\n"
     ]
    },
    {
     "data": {
      "text/plain": [
       "1.0"
      ]
     },
     "execution_count": 18,
     "metadata": {},
     "output_type": "execute_result"
    }
   ],
   "source": [
    "print('DTC ACCURACY:')\n",
    "acc_eval.evaluate(dtc_preds)"
   ]
  },
  {
   "cell_type": "code",
   "execution_count": 19,
   "metadata": {},
   "outputs": [
    {
     "name": "stdout",
     "output_type": "stream",
     "text": [
      "RFC ACCURACY:\n"
     ]
    },
    {
     "data": {
      "text/plain": [
       "1.0"
      ]
     },
     "execution_count": 19,
     "metadata": {},
     "output_type": "execute_result"
    }
   ],
   "source": [
    "print('RFC ACCURACY:')\n",
    "acc_eval.evaluate(rfc_preds)"
   ]
  },
  {
   "cell_type": "code",
   "execution_count": 20,
   "metadata": {},
   "outputs": [
    {
     "name": "stdout",
     "output_type": "stream",
     "text": [
      "GBT ACCURACY:\n"
     ]
    },
    {
     "data": {
      "text/plain": [
       "1.0"
      ]
     },
     "execution_count": 20,
     "metadata": {},
     "output_type": "execute_result"
    }
   ],
   "source": [
    "print('GBT ACCURACY:')\n",
    "acc_eval.evaluate(gbt_preds)"
   ]
  },
  {
   "cell_type": "code",
   "execution_count": 21,
   "metadata": {},
   "outputs": [
    {
     "data": {
      "text/plain": [
       "SparseVector(692, {100: 0.0015, 131: 0.0007, 148: 0.0007, 157: 0.0001, 161: 0.0006, 181: 0.0014, 203: 0.0005, 209: 0.0002, 215: 0.0008, 233: 0.0009, 234: 0.0017, 235: 0.0074, 243: 0.0011, 261: 0.0011, 262: 0.0052, 263: 0.0284, 268: 0.0003, 270: 0.0006, 272: 0.0004, 273: 0.0361, 287: 0.0005, 289: 0.0014, 290: 0.0368, 291: 0.0018, 302: 0.0042, 303: 0.0006, 322: 0.0005, 323: 0.003, 324: 0.0026, 328: 0.0018, 329: 0.0156, 330: 0.0091, 331: 0.0016, 344: 0.006, 348: 0.0006, 350: 0.0176, 351: 0.0042, 355: 0.0033, 356: 0.0093, 358: 0.0091, 359: 0.0001, 360: 0.0012, 369: 0.0011, 370: 0.0008, 371: 0.0074, 372: 0.0134, 374: 0.0006, 375: 0.0007, 378: 0.0233, 380: 0.0031, 382: 0.0012, 383: 0.0011, 386: 0.0088, 387: 0.0098, 388: 0.0015, 399: 0.001, 402: 0.006, 403: 0.0034, 405: 0.0283, 406: 0.0657, 407: 0.027, 408: 0.0011, 409: 0.0004, 412: 0.0123, 415: 0.0006, 427: 0.0007, 428: 0.0291, 429: 0.0012, 432: 0.0004, 433: 0.028, 434: 0.0315, 435: 0.0168, 438: 0.0025, 440: 0.0085, 455: 0.0078, 456: 0.0169, 461: 0.0066, 462: 0.0388, 463: 0.0011, 464: 0.0012, 467: 0.0103, 468: 0.0272, 469: 0.0146, 483: 0.0081, 484: 0.0175, 485: 0.0045, 486: 0.0011, 489: 0.0388, 490: 0.0307, 492: 0.0007, 494: 0.0023, 496: 0.0088, 510: 0.0077, 511: 0.0435, 512: 0.0028, 514: 0.0007, 515: 0.0002, 516: 0.0003, 517: 0.0313, 518: 0.0085, 521: 0.0023, 523: 0.0068, 537: 0.0005, 538: 0.0062, 539: 0.036, 540: 0.0124, 543: 0.0007, 548: 0.0006, 549: 0.0024, 551: 0.0097, 552: 0.0084, 567: 0.0061, 568: 0.0103, 575: 0.0004, 583: 0.0005, 604: 0.001, 605: 0.0004, 609: 0.0007, 623: 0.0004, 626: 0.0003, 629: 0.0003, 634: 0.002, 651: 0.0018})"
      ]
     },
     "execution_count": 21,
     "metadata": {},
     "output_type": "execute_result"
    }
   ],
   "source": [
    "rfc_model.featureImportances"
   ]
  },
  {
   "cell_type": "code",
   "execution_count": null,
   "metadata": {
    "collapsed": true
   },
   "outputs": [],
   "source": []
  }
 ],
 "metadata": {
  "kernelspec": {
   "display_name": "Python 3",
   "language": "python",
   "name": "python3"
  },
  "language_info": {
   "codemirror_mode": {
    "name": "ipython",
    "version": 3
   },
   "file_extension": ".py",
   "mimetype": "text/x-python",
   "name": "python",
   "nbconvert_exporter": "python",
   "pygments_lexer": "ipython3",
   "version": "3.5.2"
  }
 },
 "nbformat": 4,
 "nbformat_minor": 2
}
