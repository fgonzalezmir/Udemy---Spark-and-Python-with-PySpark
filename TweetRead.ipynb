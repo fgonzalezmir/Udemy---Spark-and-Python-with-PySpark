{
 "cells": [
  {
   "cell_type": "code",
   "execution_count": null,
   "metadata": {
    "collapsed": true
   },
   "outputs": [],
   "source": [
    "import tweepy \n",
    "from tweepy import OAuthHandler,Stream"
   ]
  },
  {
   "cell_type": "code",
   "execution_count": null,
   "metadata": {
    "collapsed": true
   },
   "outputs": [],
   "source": [
    "from tweepy.streaming import StreamListener\n",
    "import socket\n",
    "import json"
   ]
  },
  {
   "cell_type": "code",
   "execution_count": null,
   "metadata": {
    "collapsed": true
   },
   "outputs": [],
   "source": [
    "consumer_key = 'aNe5uQe91SqI98HM6jnWnbjvz'\n",
    "consuner_secret = 'd79mhucbru1YKeVQGnHmlBCnSUpf7FheVSUwc74gb28A4UM2mU'\n",
    "access_token = '2256586573-7SiDVrPfCzVbfcsJUzlq6tyeXsaUvmK2W3LT2Fc'\n",
    "access_secret = 'xm0JvwTwdMVuGPXGofcmU6SI5SXKDRJvlDSstL9l7Emw1'"
   ]
  },
  {
   "cell_type": "code",
   "execution_count": null,
   "metadata": {
    "collapsed": true
   },
   "outputs": [],
   "source": [
    "class TweetListener(StreamListener):\n",
    "    \n",
    "    def __init__(self, csocket):\n",
    "        self.client_socket = csocket\n",
    "        \n",
    "    def on_data(self,data):\n",
    "        \n",
    "        try:\n",
    "            msg = json.loads(data)\n",
    "            print(msg['text'].encode('utf-8'))\n",
    "            self.client_socket.send(msg['text'].encode('utf-8'))\n",
    "            return True\n",
    "        except BaseExceptiion as e:\n",
    "            print(\"ERROR \",e)\n",
    "        \n",
    "        return True\n",
    "    \n",
    "    def on_error(self,status):\n",
    "        print(status)\n",
    "        return True\n",
    "             \n",
    "            "
   ]
  },
  {
   "cell_type": "code",
   "execution_count": null,
   "metadata": {
    "collapsed": true
   },
   "outputs": [],
   "source": [
    "def sendData(c_socket):\n",
    "    auth = OAuthHandler(consumer_key, consumer_secret)\n",
    "    auth.set_access_token(access_token, access_secret)\n",
    "    \n",
    "    twitter_stream = Stream(auth,TwitterListener(c_socket))\n",
    "    twitter_stream.filter(track=['guitar'])\n",
    "    "
   ]
  },
  {
   "cell_type": "code",
   "execution_count": null,
   "metadata": {},
   "outputs": [],
   "source": [
    "if __name__ == '__main__':\n",
    "    s=socket.socket()\n",
    "    host='127.0.01'\n",
    "    port = 5555\n",
    "    \n",
    "    s.bind((host,port))\n",
    "    \n",
    "    print('listening on port 5555')\n",
    "    \n",
    "    s.listen(5)\n",
    "    \n",
    "    c,addr = s.accept()\n",
    "    \n",
    "    sendData(c)"
   ]
  },
  {
   "cell_type": "code",
   "execution_count": null,
   "metadata": {
    "collapsed": true
   },
   "outputs": [],
   "source": []
  }
 ],
 "metadata": {
  "kernelspec": {
   "display_name": "Python 3",
   "language": "python",
   "name": "python3"
  },
  "language_info": {
   "codemirror_mode": {
    "name": "ipython",
    "version": 3
   },
   "file_extension": ".py",
   "mimetype": "text/x-python",
   "name": "python",
   "nbconvert_exporter": "python",
   "pygments_lexer": "ipython3",
   "version": "3.5.2"
  }
 },
 "nbformat": 4,
 "nbformat_minor": 2
}
